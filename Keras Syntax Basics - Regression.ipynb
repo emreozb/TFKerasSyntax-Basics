{
 "cells": [
  {
   "cell_type": "code",
   "execution_count": 3,
   "metadata": {},
   "outputs": [],
   "source": [
    "import pandas as pd\n",
    "import numpy as np\n",
    "import seaborn as sns\n",
    "import matplotlib.pyplot as plt\n",
    "%matplotlib inline"
   ]
  },
  {
   "cell_type": "markdown",
   "metadata": {},
   "source": [
    "## Preparing the Data\n",
    "\n",
    "### Loading the Data"
   ]
  },
  {
   "cell_type": "code",
   "execution_count": 68,
   "metadata": {},
   "outputs": [],
   "source": [
    "df = pd.read_csv('fake_reg.csv')"
   ]
  },
  {
   "cell_type": "code",
   "execution_count": 69,
   "metadata": {},
   "outputs": [
    {
     "data": {
      "text/html": [
       "<div>\n",
       "<style scoped>\n",
       "    .dataframe tbody tr th:only-of-type {\n",
       "        vertical-align: middle;\n",
       "    }\n",
       "\n",
       "    .dataframe tbody tr th {\n",
       "        vertical-align: top;\n",
       "    }\n",
       "\n",
       "    .dataframe thead th {\n",
       "        text-align: right;\n",
       "    }\n",
       "</style>\n",
       "<table border=\"1\" class=\"dataframe\">\n",
       "  <thead>\n",
       "    <tr style=\"text-align: right;\">\n",
       "      <th></th>\n",
       "      <th>price</th>\n",
       "      <th>feature1</th>\n",
       "      <th>feature2</th>\n",
       "    </tr>\n",
       "  </thead>\n",
       "  <tbody>\n",
       "    <tr>\n",
       "      <th>0</th>\n",
       "      <td>461.527929</td>\n",
       "      <td>999.787558</td>\n",
       "      <td>999.766096</td>\n",
       "    </tr>\n",
       "    <tr>\n",
       "      <th>1</th>\n",
       "      <td>548.130011</td>\n",
       "      <td>998.861615</td>\n",
       "      <td>1001.042403</td>\n",
       "    </tr>\n",
       "    <tr>\n",
       "      <th>2</th>\n",
       "      <td>410.297162</td>\n",
       "      <td>1000.070267</td>\n",
       "      <td>998.844015</td>\n",
       "    </tr>\n",
       "    <tr>\n",
       "      <th>3</th>\n",
       "      <td>540.382220</td>\n",
       "      <td>999.952251</td>\n",
       "      <td>1000.440940</td>\n",
       "    </tr>\n",
       "    <tr>\n",
       "      <th>4</th>\n",
       "      <td>546.024553</td>\n",
       "      <td>1000.446011</td>\n",
       "      <td>1000.338531</td>\n",
       "    </tr>\n",
       "  </tbody>\n",
       "</table>\n",
       "</div>"
      ],
      "text/plain": [
       "        price     feature1     feature2\n",
       "0  461.527929   999.787558   999.766096\n",
       "1  548.130011   998.861615  1001.042403\n",
       "2  410.297162  1000.070267   998.844015\n",
       "3  540.382220   999.952251  1000.440940\n",
       "4  546.024553  1000.446011  1000.338531"
      ]
     },
     "execution_count": 69,
     "metadata": {},
     "output_type": "execute_result"
    }
   ],
   "source": [
    "df.head()"
   ]
  },
  {
   "cell_type": "code",
   "execution_count": 70,
   "metadata": {},
   "outputs": [
    {
     "data": {
      "text/html": [
       "<div>\n",
       "<style scoped>\n",
       "    .dataframe tbody tr th:only-of-type {\n",
       "        vertical-align: middle;\n",
       "    }\n",
       "\n",
       "    .dataframe tbody tr th {\n",
       "        vertical-align: top;\n",
       "    }\n",
       "\n",
       "    .dataframe thead th {\n",
       "        text-align: right;\n",
       "    }\n",
       "</style>\n",
       "<table border=\"1\" class=\"dataframe\">\n",
       "  <thead>\n",
       "    <tr style=\"text-align: right;\">\n",
       "      <th></th>\n",
       "      <th>price</th>\n",
       "      <th>feature1</th>\n",
       "      <th>feature2</th>\n",
       "    </tr>\n",
       "  </thead>\n",
       "  <tbody>\n",
       "    <tr>\n",
       "      <th>count</th>\n",
       "      <td>1000.000000</td>\n",
       "      <td>1000.000000</td>\n",
       "      <td>1000.000000</td>\n",
       "    </tr>\n",
       "    <tr>\n",
       "      <th>mean</th>\n",
       "      <td>498.673029</td>\n",
       "      <td>1000.014171</td>\n",
       "      <td>999.979847</td>\n",
       "    </tr>\n",
       "    <tr>\n",
       "      <th>std</th>\n",
       "      <td>93.785431</td>\n",
       "      <td>0.974018</td>\n",
       "      <td>0.948330</td>\n",
       "    </tr>\n",
       "    <tr>\n",
       "      <th>min</th>\n",
       "      <td>223.346793</td>\n",
       "      <td>997.058347</td>\n",
       "      <td>996.995651</td>\n",
       "    </tr>\n",
       "    <tr>\n",
       "      <th>25%</th>\n",
       "      <td>433.025732</td>\n",
       "      <td>999.332068</td>\n",
       "      <td>999.316106</td>\n",
       "    </tr>\n",
       "    <tr>\n",
       "      <th>50%</th>\n",
       "      <td>502.382117</td>\n",
       "      <td>1000.009915</td>\n",
       "      <td>1000.002243</td>\n",
       "    </tr>\n",
       "    <tr>\n",
       "      <th>75%</th>\n",
       "      <td>564.921588</td>\n",
       "      <td>1000.637580</td>\n",
       "      <td>1000.645380</td>\n",
       "    </tr>\n",
       "    <tr>\n",
       "      <th>max</th>\n",
       "      <td>774.407854</td>\n",
       "      <td>1003.207934</td>\n",
       "      <td>1002.666308</td>\n",
       "    </tr>\n",
       "  </tbody>\n",
       "</table>\n",
       "</div>"
      ],
      "text/plain": [
       "             price     feature1     feature2\n",
       "count  1000.000000  1000.000000  1000.000000\n",
       "mean    498.673029  1000.014171   999.979847\n",
       "std      93.785431     0.974018     0.948330\n",
       "min     223.346793   997.058347   996.995651\n",
       "25%     433.025732   999.332068   999.316106\n",
       "50%     502.382117  1000.009915  1000.002243\n",
       "75%     564.921588  1000.637580  1000.645380\n",
       "max     774.407854  1003.207934  1002.666308"
      ]
     },
     "execution_count": 70,
     "metadata": {},
     "output_type": "execute_result"
    }
   ],
   "source": [
    "df.describe()"
   ]
  },
  {
   "cell_type": "markdown",
   "metadata": {},
   "source": [
    "### Exploring the Data\n",
    "\n",
    "**We should see strong correlation between the features and the \"price\" of this made up product.**"
   ]
  },
  {
   "cell_type": "code",
   "execution_count": 71,
   "metadata": {},
   "outputs": [
    {
     "data": {
      "text/plain": [
       "<seaborn.axisgrid.PairGrid at 0x25422d58908>"
      ]
     },
     "execution_count": 71,
     "metadata": {},
     "output_type": "execute_result"
    },
    {
     "data": {
      "image/png": "[encoded data removed]",
      "text/plain": [
       "<Figure size 540x540 with 12 Axes>"
      ]
     },
     "metadata": {
      "needs_background": "light"
     },
     "output_type": "display_data"
    }
   ],
   "source": [
    "sns.pairplot(df)"
   ]
  },
  {
   "cell_type": "markdown",
   "metadata": {},
   "source": [
    "## Test/Train Split"
   ]
  },
  {
   "cell_type": "code",
   "execution_count": 72,
   "metadata": {},
   "outputs": [],
   "source": [
    "from sklearn.model_selection import train_test_split"
   ]
  },
  {
   "cell_type": "code",
   "execution_count": 73,
   "metadata": {},
   "outputs": [],
   "source": [
    "# Convert Pandas to Numpy for Keras\n",
    "\n",
    "# Features\n",
    "X = df[['feature1', 'feature2']].values\n",
    "# Label\n",
    "y = df['price'].values"
   ]
  },
  {
   "cell_type": "code",
   "execution_count": 74,
   "metadata": {},
   "outputs": [],
   "source": [
    "# Split\n",
    "X_train, X_test, y_train, y_test = train_test_split(X, y, test_size=0.3, random_state=42)"
   ]
  },
  {
   "cell_type": "code",
   "execution_count": 75,
   "metadata": {},
   "outputs": [
    {
     "data": {
      "text/plain": [
       "(700, 2)"
      ]
     },
     "execution_count": 75,
     "metadata": {},
     "output_type": "execute_result"
    }
   ],
   "source": [
    "X_train.shape"
   ]
  },
  {
   "cell_type": "code",
   "execution_count": 76,
   "metadata": {},
   "outputs": [
    {
     "data": {
      "text/plain": [
       "(300, 2)"
      ]
     },
     "execution_count": 76,
     "metadata": {},
     "output_type": "execute_result"
    }
   ],
   "source": [
    "X_test.shape"
   ]
  },
  {
   "cell_type": "code",
   "execution_count": 77,
   "metadata": {},
   "outputs": [
    {
     "data": {
      "text/plain": [
       "(700,)"
      ]
     },
     "execution_count": 77,
     "metadata": {},
     "output_type": "execute_result"
    }
   ],
   "source": [
    "y_train.shape"
   ]
  },
  {
   "cell_type": "code",
   "execution_count": 78,
   "metadata": {},
   "outputs": [
    {
     "data": {
      "text/plain": [
       "(300,)"
      ]
     },
     "execution_count": 78,
     "metadata": {},
     "output_type": "execute_result"
    }
   ],
   "source": [
    "y_test.shape"
   ]
  },
  {
   "cell_type": "markdown",
   "metadata": {},
   "source": [
    "## Normalizing/Scaling the Data\n",
    "\n",
    "**We scale the feature data. (Feature scaling improves the convergence of steepest descent algorithms, which do not possess the property of scale invariance. Normalizing the output will not affect shape of function, so it's generally not necessary.)**"
   ]
  },
  {
   "cell_type": "code",
   "execution_count": 79,
   "metadata": {},
   "outputs": [],
   "source": [
    "# An alternative standardization is scaling features to lie between a given minimum and maximum value, often between zero and one.\n",
    "from sklearn.preprocessing import MinMaxScaler"
   ]
  },
  {
   "cell_type": "code",
   "execution_count": 80,
   "metadata": {},
   "outputs": [],
   "source": [
    "# help(MinMaxScaler)"
   ]
  },
  {
   "cell_type": "code",
   "execution_count": 81,
   "metadata": {},
   "outputs": [],
   "source": [
    "scaler = MinMaxScaler()"
   ]
  },
  {
   "cell_type": "code",
   "execution_count": 82,
   "metadata": {},
   "outputs": [
    {
     "data": {
      "text/plain": [
       "MinMaxScaler(copy=True, feature_range=(0, 1))"
      ]
     },
     "execution_count": 82,
     "metadata": {},
     "output_type": "execute_result"
    }
   ],
   "source": [
    "# Notice to prevent data leakage from the test set, we only fit our scaler to the training set\n",
    "scaler.fit(X_train)"
   ]
  },
  {
   "cell_type": "code",
   "execution_count": 83,
   "metadata": {},
   "outputs": [],
   "source": [
    "X_train = scaler.transform(X_train)\n",
    "X_test = scaler.transform(X_test)"
   ]
  },
  {
   "cell_type": "markdown",
   "metadata": {},
   "source": [
    "## TensorFlow 2.0 Syntax\n",
    "\n",
    "### Import Options\n",
    "\n",
    "**There are several ways we can import Keras from Tensorflow (this is hugely a personal style choice, we can use any import methods we prefer). We will use the method shown in the official TF documentation**"
   ]
  },
  {
   "cell_type": "code",
   "execution_count": 84,
   "metadata": {},
   "outputs": [],
   "source": [
    "from tensorflow.keras.models import Sequential\n",
    "from tensorflow.keras.layers import Dense"
   ]
  },
  {
   "cell_type": "code",
   "execution_count": 85,
   "metadata": {},
   "outputs": [],
   "source": [
    "# help(Sequential)\n",
    "# help(Dense)"
   ]
  },
  {
   "cell_type": "markdown",
   "metadata": {},
   "source": [
    "### Model - as a list of layers"
   ]
  },
  {
   "cell_type": "code",
   "execution_count": 86,
   "metadata": {},
   "outputs": [],
   "source": [
    "# model = Sequential([\n",
    "#     Dense(4, activation = 'relu'), \n",
    "#     Dense(2, activation = 'relu'), \n",
    "#     Dense(1)\n",
    "# ])"
   ]
  },
  {
   "cell_type": "markdown",
   "metadata": {},
   "source": [
    "### Model - adding in layers one by one"
   ]
  },
  {
   "cell_type": "code",
   "execution_count": 87,
   "metadata": {},
   "outputs": [],
   "source": [
    "model = Sequential()\n",
    "\n",
    "model.add(Dense(4, activation = 'relu'))\n",
    "model.add(Dense(4, activation = 'relu'))\n",
    "model.add(Dense(4, activation = 'relu'))\n",
    "\n",
    "# Final output node for prediction\n",
    "model.add(Dense(1))\n",
    "\n",
    "model.compile(optimizer = 'rmsprop', loss = 'mse')"
   ]
  },
  {
   "cell_type": "markdown",
   "metadata": {},
   "source": [
    "### Choosing an optimizer and loss\n",
    "\n",
    "Keep in mind what kind of problem we are trying to solve:\n",
    "\n",
    "    # For a multi-class classification problem\n",
    "    model.compile(optimizer='rmsprop',\n",
    "                  loss='categorical_crossentropy',\n",
    "                  metrics=['accuracy'])\n",
    "\n",
    "    # For a binary classification problem\n",
    "    model.compile(optimizer='rmsprop',\n",
    "                  loss='binary_crossentropy',\n",
    "                  metrics=['accuracy'])\n",
    "\n",
    "    # For a mean squared error regression problem\n",
    "    model.compile(optimizer='rmsprop',\n",
    "                  loss='mse')"
   ]
  },
  {
   "cell_type": "markdown",
   "metadata": {},
   "source": [
    "# Training\n",
    "\n",
    "Below are some common definitions that are necessary to know and understand to correctly utilize Keras:\n",
    "\n",
    "* Sample: one element of a dataset.\n",
    "    * Example: one image is a sample in a convolutional network\n",
    "    * Example: one audio file is a sample for a speech recognition model\n",
    "* Batch: a set of N samples. The samples in a batch are processed independently, in parallel. If training, a batch results in only one update to the model.A batch generally approximates the distribution of the input data better than a single input. The larger the batch, the better the approximation; however, it is also true that the batch will take longer to process and will still result in only one update. For inference (evaluate/predict), it is recommended to pick a batch size that is as large as we can afford without going out of memory (since larger batches will usually result in faster evaluation/prediction).\n",
    "* Epoch: an arbitrary cutoff, generally defined as \"one pass over the entire dataset\", used to separate training into distinct phases, which is useful for logging and periodic evaluation.\n",
    "* When using validation_data or validation_split with the fit method of Keras models, evaluation will be run at the end of every epoch.\n",
    "* Within Keras, there is the ability to add callbacks specifically designed to be run at the end of an epoch. Examples of these are learning rate changes and model checkpointing (saving)."
   ]
  },
  {
   "cell_type": "code",
   "execution_count": 88,
   "metadata": {},
   "outputs": [
    {
     "name": "stdout",
     "output_type": "stream",
     "text": [
      "Train on 700 samples\n",
      "Epoch 1/250\n",
      "700/700 [==============================] - 1s 2ms/sample - loss: 256489.5785\n",
      "Epoch 2/250\n",
      "700/700 [==============================] - 0s 98us/sample - loss: 256349.9263\n",
      "Epoch 3/250\n",
      "700/700 [==============================] - 0s 98us/sample - loss: 256180.6021\n",
      "Epoch 4/250\n",
      "700/700 [==============================] - 0s 100us/sample - loss: 255961.3947\n",
      "Epoch 5/250\n",
      "700/700 [==============================] - 0s 99us/sample - loss: 255709.7902\n",
      "Epoch 6/250\n",
      "700/700 [==============================] - 0s 98us/sample - loss: 255416.3695\n",
      "Epoch 7/250\n",
      "700/700 [==============================] - 0s 98us/sample - loss: 255073.6946\n",
      "Epoch 8/250\n",
      "700/700 [==============================] - 0s 98us/sample - loss: 254674.3226\n",
      "Epoch 9/250\n",
      "700/700 [==============================] - 0s 99us/sample - loss: 254190.2409\n",
      "Epoch 10/250\n",
      "700/700 [==============================] - 0s 100us/sample - loss: 253593.2145\n",
      "Epoch 11/250\n",
      "700/700 [==============================] - 0s 101us/sample - loss: 252872.4340\n",
      "Epoch 12/250\n",
      "700/700 [==============================] - 0s 101us/sample - loss: 252050.9763\n",
      "Epoch 13/250\n",
      "700/700 [==============================] - 0s 103us/sample - loss: 251116.6977\n",
      "Epoch 14/250\n",
      "700/700 [==============================] - 0s 97us/sample - loss: 250067.0598\n",
      "Epoch 15/250\n",
      "700/700 [==============================] - 0s 99us/sample - loss: 248896.7052\n",
      "Epoch 16/250\n",
      "700/700 [==============================] - 0s 98us/sample - loss: 247597.5764\n",
      "Epoch 17/250\n",
      "700/700 [==============================] - 0s 96us/sample - loss: 246148.8494\n",
      "Epoch 18/250\n",
      "700/700 [==============================] - 0s 98us/sample - loss: 244551.6378\n",
      "Epoch 19/250\n",
      "700/700 [==============================] - 0s 99us/sample - loss: 242770.1904\n",
      "Epoch 20/250\n",
      "700/700 [==============================] - 0s 101us/sample - loss: 240787.1679\n",
      "Epoch 21/250\n",
      "700/700 [==============================] - 0s 104us/sample - loss: 238608.1959\n",
      "Epoch 22/250\n",
      "700/700 [==============================] - 0s 97us/sample - loss: 236216.3186\n",
      "Epoch 23/250\n",
      "700/700 [==============================] - 0s 96us/sample - loss: 233600.9804\n",
      "Epoch 24/250\n",
      "700/700 [==============================] - 0s 99us/sample - loss: 230769.2492\n",
      "Epoch 25/250\n",
      "700/700 [==============================] - 0s 102us/sample - loss: 227671.4404\n",
      "Epoch 26/250\n",
      "700/700 [==============================] - 0s 104us/sample - loss: 224354.8303\n",
      "Epoch 27/250\n",
      "700/700 [==============================] - 0s 101us/sample - loss: 220778.2191\n",
      "Epoch 28/250\n",
      "700/700 [==============================] - 0s 103us/sample - loss: 216936.1137\n",
      "Epoch 29/250\n",
      "700/700 [==============================] - 0s 103us/sample - loss: 212849.3629\n",
      "Epoch 30/250\n",
      "700/700 [==============================] - 0s 106us/sample - loss: 208454.4704\n",
      "Epoch 31/250\n",
      "700/700 [==============================] - 0s 160us/sample - loss: 203780.3812\n",
      "Epoch 32/250\n",
      "700/700 [==============================] - 0s 181us/sample - loss: 198823.7613\n",
      "Epoch 33/250\n",
      "700/700 [==============================] - 0s 177us/sample - loss: 193601.7270\n",
      "Epoch 34/250\n",
      "700/700 [==============================] - 0s 194us/sample - loss: 188087.8040\n",
      "Epoch 35/250\n",
      "700/700 [==============================] - 0s 193us/sample - loss: 182242.0458\n",
      "Epoch 36/250\n",
      "700/700 [==============================] - 0s 188us/sample - loss: 176135.9077\n",
      "Epoch 37/250\n",
      "700/700 [==============================] - 0s 180us/sample - loss: 169758.1179\n",
      "Epoch 38/250\n",
      "700/700 [==============================] - 0s 180us/sample - loss: 163121.3542\n",
      "Epoch 39/250\n",
      "700/700 [==============================] - 0s 154us/sample - loss: 156208.7420\n",
      "Epoch 40/250\n",
      "700/700 [==============================] - 0s 96us/sample - loss: 149032.6428\n",
      "Epoch 41/250\n",
      "700/700 [==============================] - 0s 88us/sample - loss: 141601.1963\n",
      "Epoch 42/250\n",
      "700/700 [==============================] - 0s 112us/sample - loss: 133947.6219\n",
      "Epoch 43/250\n",
      "700/700 [==============================] - 0s 110us/sample - loss: 126107.6660\n",
      "Epoch 44/250\n",
      "700/700 [==============================] - 0s 111us/sample - loss: 118142.3236\n",
      "Epoch 45/250\n",
      "700/700 [==============================] - 0s 111us/sample - loss: 109973.0813\n",
      "Epoch 46/250\n",
      "700/700 [==============================] - 0s 112us/sample - loss: 101677.0163\n",
      "Epoch 47/250\n",
      "700/700 [==============================] - 0s 105us/sample - loss: 93374.6798\n",
      "Epoch 48/250\n",
      "700/700 [==============================] - ETA: 0s - loss: 85717.904 - 0s 108us/sample - loss: 85006.1862\n",
      "Epoch 49/250\n",
      "700/700 [==============================] - 0s 126us/sample - loss: 76697.9162\n",
      "Epoch 50/250\n",
      "700/700 [==============================] - 0s 97us/sample - loss: 68476.8126\n",
      "Epoch 51/250\n",
      "700/700 [==============================] - 0s 93us/sample - loss: 60362.8049\n",
      "Epoch 52/250\n",
      "700/700 [==============================] - 0s 74us/sample - loss: 52408.2790\n",
      "Epoch 53/250\n",
      "700/700 [==============================] - 0s 88us/sample - loss: 44766.3207\n",
      "Epoch 54/250\n",
      "700/700 [==============================] - 0s 94us/sample - loss: 37488.0490\n",
      "Epoch 55/250\n",
      "700/700 [==============================] - 0s 94us/sample - loss: 30657.6493\n",
      "Epoch 56/250\n",
      "700/700 [==============================] - 0s 108us/sample - loss: 24331.4345\n",
      "Epoch 57/250\n",
      "700/700 [==============================] - 0s 149us/sample - loss: 18628.8150\n",
      "Epoch 58/250\n",
      "700/700 [==============================] - 0s 151us/sample - loss: 13640.0170\n",
      "Epoch 59/250\n",
      "700/700 [==============================] - 0s 156us/sample - loss: 9445.3722\n",
      "Epoch 60/250\n",
      "700/700 [==============================] - 0s 151us/sample - loss: 6207.3323\n",
      "Epoch 61/250\n",
      "700/700 [==============================] - 0s 149us/sample - loss: 3921.3964\n",
      "Epoch 62/250\n",
      "700/700 [==============================] - 0s 146us/sample - loss: 2652.4504\n",
      "Epoch 63/250\n",
      "700/700 [==============================] - 0s 150us/sample - loss: 2196.5617\n",
      "Epoch 64/250\n",
      "700/700 [==============================] - 0s 149us/sample - loss: 2100.8963\n",
      "Epoch 65/250\n",
      "700/700 [==============================] - 0s 148us/sample - loss: 2046.4735\n",
      "Epoch 66/250\n",
      "700/700 [==============================] - 0s 146us/sample - loss: 1994.3482\n",
      "Epoch 67/250\n",
      "700/700 [==============================] - 0s 156us/sample - loss: 1945.0505\n",
      "Epoch 68/250\n",
      "700/700 [==============================] - 0s 153us/sample - loss: 1897.5333\n",
      "Epoch 69/250\n",
      "700/700 [==============================] - 0s 140us/sample - loss: 1842.5923 - loss: 1949.33\n",
      "Epoch 70/250\n",
      "700/700 [==============================] - 0s 146us/sample - loss: 1806.3844\n",
      "Epoch 71/250\n",
      "700/700 [==============================] - 0s 145us/sample - loss: 1758.9647\n",
      "Epoch 72/250\n",
      "700/700 [==============================] - 0s 148us/sample - loss: 1704.4760\n",
      "Epoch 73/250\n",
      "700/700 [==============================] - 0s 144us/sample - loss: 1663.5559\n",
      "Epoch 74/250\n",
      "700/700 [==============================] - 0s 140us/sample - loss: 1609.5155\n",
      "Epoch 75/250\n",
      "700/700 [==============================] - 0s 132us/sample - loss: 1569.4307\n",
      "Epoch 76/250\n",
      "700/700 [==============================] - 0s 147us/sample - loss: 1516.4101\n",
      "Epoch 77/250\n",
      "700/700 [==============================] - 0s 155us/sample - loss: 1469.2509\n",
      "Epoch 78/250\n",
      "700/700 [==============================] - 0s 132us/sample - loss: 1421.8115\n",
      "Epoch 79/250\n",
      "700/700 [==============================] - 0s 134us/sample - loss: 1374.2759\n",
      "Epoch 80/250\n",
      "700/700 [==============================] - 0s 136us/sample - loss: 1335.7077\n",
      "Epoch 81/250\n",
      "700/700 [==============================] - 0s 131us/sample - loss: 1288.5398\n",
      "Epoch 82/250\n",
      "700/700 [==============================] - 0s 132us/sample - loss: 1255.0611\n",
      "Epoch 83/250\n",
      "700/700 [==============================] - 0s 136us/sample - loss: 1211.8979\n",
      "Epoch 84/250\n",
      "700/700 [==============================] - 0s 125us/sample - loss: 1167.6767\n",
      "Epoch 85/250\n",
      "700/700 [==============================] - 0s 133us/sample - loss: 1118.9038\n",
      "Epoch 86/250\n",
      "700/700 [==============================] - 0s 149us/sample - loss: 1092.5009\n",
      "Epoch 87/250\n",
      "700/700 [==============================] - 0s 150us/sample - loss: 1049.5698\n",
      "Epoch 88/250\n",
      "700/700 [==============================] - 0s 160us/sample - loss: 1006.3554\n",
      "Epoch 89/250\n",
      "700/700 [==============================] - 0s 153us/sample - loss: 970.3815\n",
      "Epoch 90/250\n"
     ]
    },
    {
     "name": "stdout",
     "output_type": "stream",
     "text": [
      "700/700 [==============================] - 0s 150us/sample - loss: 934.5418\n",
      "Epoch 91/250\n",
      "700/700 [==============================] - 0s 148us/sample - loss: 897.8647\n",
      "Epoch 92/250\n",
      "700/700 [==============================] - 0s 141us/sample - loss: 864.1310\n",
      "Epoch 93/250\n",
      "700/700 [==============================] - 0s 142us/sample - loss: 828.2647\n",
      "Epoch 94/250\n",
      "700/700 [==============================] - 0s 148us/sample - loss: 793.4818\n",
      "Epoch 95/250\n",
      "700/700 [==============================] - 0s 137us/sample - loss: 757.1547\n",
      "Epoch 96/250\n",
      "700/700 [==============================] - 0s 133us/sample - loss: 722.8761\n",
      "Epoch 97/250\n",
      "700/700 [==============================] - 0s 214us/sample - loss: 686.0787\n",
      "Epoch 98/250\n",
      "700/700 [==============================] - 0s 195us/sample - loss: 658.3718\n",
      "Epoch 99/250\n",
      "700/700 [==============================] - 0s 165us/sample - loss: 629.5483\n",
      "Epoch 100/250\n",
      "700/700 [==============================] - 0s 138us/sample - loss: 600.7099\n",
      "Epoch 101/250\n",
      "700/700 [==============================] - 0s 131us/sample - loss: 572.3842\n",
      "Epoch 102/250\n",
      "700/700 [==============================] - 0s 130us/sample - loss: 543.3834\n",
      "Epoch 103/250\n",
      "700/700 [==============================] - 0s 94us/sample - loss: 511.4158\n",
      "Epoch 104/250\n",
      "700/700 [==============================] - 0s 98us/sample - loss: 482.4631\n",
      "Epoch 105/250\n",
      "700/700 [==============================] - 0s 105us/sample - loss: 453.9877\n",
      "Epoch 106/250\n",
      "700/700 [==============================] - 0s 100us/sample - loss: 427.0820\n",
      "Epoch 107/250\n",
      "700/700 [==============================] - 0s 100us/sample - loss: 398.4494\n",
      "Epoch 108/250\n",
      "700/700 [==============================] - 0s 97us/sample - loss: 372.9518\n",
      "Epoch 109/250\n",
      "700/700 [==============================] - 0s 100us/sample - loss: 345.0856\n",
      "Epoch 110/250\n",
      "700/700 [==============================] - 0s 98us/sample - loss: 324.3860\n",
      "Epoch 111/250\n",
      "700/700 [==============================] - 0s 96us/sample - loss: 305.0410\n",
      "Epoch 112/250\n",
      "700/700 [==============================] - 0s 101us/sample - loss: 287.3561\n",
      "Epoch 113/250\n",
      "700/700 [==============================] - 0s 100us/sample - loss: 268.1652\n",
      "Epoch 114/250\n",
      "700/700 [==============================] - 0s 100us/sample - loss: 247.7066\n",
      "Epoch 115/250\n",
      "700/700 [==============================] - 0s 97us/sample - loss: 229.2428\n",
      "Epoch 116/250\n",
      "700/700 [==============================] - 0s 99us/sample - loss: 211.3348\n",
      "Epoch 117/250\n",
      "700/700 [==============================] - 0s 102us/sample - loss: 193.6386\n",
      "Epoch 118/250\n",
      "700/700 [==============================] - 0s 155us/sample - loss: 177.3851\n",
      "Epoch 119/250\n",
      "700/700 [==============================] - 0s 153us/sample - loss: 162.7580\n",
      "Epoch 120/250\n",
      "700/700 [==============================] - 0s 146us/sample - loss: 147.1063\n",
      "Epoch 121/250\n",
      "700/700 [==============================] - 0s 125us/sample - loss: 132.5250\n",
      "Epoch 122/250\n",
      "700/700 [==============================] - 0s 138us/sample - loss: 119.7233\n",
      "Epoch 123/250\n",
      "700/700 [==============================] - 0s 139us/sample - loss: 108.1043\n",
      "Epoch 124/250\n",
      "700/700 [==============================] - 0s 140us/sample - loss: 97.2144\n",
      "Epoch 125/250\n",
      "700/700 [==============================] - 0s 145us/sample - loss: 87.7074\n",
      "Epoch 126/250\n",
      "700/700 [==============================] - 0s 137us/sample - loss: 79.7664\n",
      "Epoch 127/250\n",
      "700/700 [==============================] - 0s 135us/sample - loss: 71.3324\n",
      "Epoch 128/250\n",
      "700/700 [==============================] - 0s 131us/sample - loss: 64.6485\n",
      "Epoch 129/250\n",
      "700/700 [==============================] - 0s 149us/sample - loss: 58.3226\n",
      "Epoch 130/250\n",
      "700/700 [==============================] - 0s 142us/sample - loss: 52.5388\n",
      "Epoch 131/250\n",
      "700/700 [==============================] - 0s 134us/sample - loss: 47.5313\n",
      "Epoch 132/250\n",
      "700/700 [==============================] - 0s 144us/sample - loss: 43.2825\n",
      "Epoch 133/250\n",
      "700/700 [==============================] - 0s 95us/sample - loss: 40.6042\n",
      "Epoch 134/250\n",
      "700/700 [==============================] - 0s 137us/sample - loss: 37.6405\n",
      "Epoch 135/250\n",
      "700/700 [==============================] - 0s 151us/sample - loss: 34.9441\n",
      "Epoch 136/250\n",
      "700/700 [==============================] - 0s 151us/sample - loss: 33.0455\n",
      "Epoch 137/250\n",
      "700/700 [==============================] - 0s 152us/sample - loss: 31.3741\n",
      "Epoch 138/250\n",
      "700/700 [==============================] - 0s 144us/sample - loss: 30.0104\n",
      "Epoch 139/250\n",
      "700/700 [==============================] - 0s 149us/sample - loss: 28.7898\n",
      "Epoch 140/250\n",
      "700/700 [==============================] - 0s 142us/sample - loss: 27.9261\n",
      "Epoch 141/250\n",
      "700/700 [==============================] - 0s 133us/sample - loss: 27.1478\n",
      "Epoch 142/250\n",
      "700/700 [==============================] - 0s 135us/sample - loss: 27.2602\n",
      "Epoch 143/250\n",
      "700/700 [==============================] - 0s 141us/sample - loss: 25.8466\n",
      "Epoch 144/250\n",
      "700/700 [==============================] - 0s 130us/sample - loss: 26.7437\n",
      "Epoch 145/250\n",
      "700/700 [==============================] - 0s 130us/sample - loss: 25.4280\n",
      "Epoch 146/250\n",
      "700/700 [==============================] - 0s 125us/sample - loss: 25.4791\n",
      "Epoch 147/250\n",
      "700/700 [==============================] - 0s 134us/sample - loss: 24.9595\n",
      "Epoch 148/250\n",
      "700/700 [==============================] - 0s 129us/sample - loss: 25.8298\n",
      "Epoch 149/250\n",
      "700/700 [==============================] - 0s 140us/sample - loss: 24.9919\n",
      "Epoch 150/250\n",
      "700/700 [==============================] - 0s 128us/sample - loss: 24.8151\n",
      "Epoch 151/250\n",
      "700/700 [==============================] - 0s 126us/sample - loss: 24.8499\n",
      "Epoch 152/250\n",
      "700/700 [==============================] - 0s 127us/sample - loss: 24.9507\n",
      "Epoch 153/250\n",
      "700/700 [==============================] - 0s 128us/sample - loss: 24.5657\n",
      "Epoch 154/250\n",
      "700/700 [==============================] - 0s 132us/sample - loss: 24.5921\n",
      "Epoch 155/250\n",
      "700/700 [==============================] - 0s 133us/sample - loss: 24.8813\n",
      "Epoch 156/250\n",
      "700/700 [==============================] - 0s 138us/sample - loss: 24.1280\n",
      "Epoch 157/250\n",
      "700/700 [==============================] - 0s 128us/sample - loss: 25.3324\n",
      "Epoch 158/250\n",
      "700/700 [==============================] - 0s 136us/sample - loss: 24.5328\n",
      "Epoch 159/250\n",
      "700/700 [==============================] - 0s 146us/sample - loss: 24.2754\n",
      "Epoch 160/250\n",
      "700/700 [==============================] - 0s 139us/sample - loss: 24.5808\n",
      "Epoch 161/250\n",
      "700/700 [==============================] - 0s 127us/sample - loss: 24.5539\n",
      "Epoch 162/250\n",
      "700/700 [==============================] - 0s 118us/sample - loss: 24.5500\n",
      "Epoch 163/250\n",
      "700/700 [==============================] - 0s 151us/sample - loss: 24.6171\n",
      "Epoch 164/250\n",
      "700/700 [==============================] - 0s 144us/sample - loss: 24.1289\n",
      "Epoch 165/250\n",
      "700/700 [==============================] - 0s 140us/sample - loss: 24.9398\n",
      "Epoch 166/250\n",
      "700/700 [==============================] - 0s 149us/sample - loss: 24.6834\n",
      "Epoch 167/250\n",
      "700/700 [==============================] - 0s 172us/sample - loss: 24.5316\n",
      "Epoch 168/250\n",
      "700/700 [==============================] - 0s 147us/sample - loss: 24.3242\n",
      "Epoch 169/250\n",
      "700/700 [==============================] - 0s 151us/sample - loss: 24.3956\n",
      "Epoch 170/250\n",
      "700/700 [==============================] - 0s 138us/sample - loss: 24.2312\n",
      "Epoch 171/250\n",
      "700/700 [==============================] - 0s 140us/sample - loss: 24.3800\n",
      "Epoch 172/250\n",
      "700/700 [==============================] - 0s 154us/sample - loss: 24.4134\n",
      "Epoch 173/250\n",
      "700/700 [==============================] - 0s 143us/sample - loss: 24.3296\n",
      "Epoch 174/250\n",
      "700/700 [==============================] - 0s 167us/sample - loss: 24.6719\n",
      "Epoch 175/250\n",
      "700/700 [==============================] - 0s 145us/sample - loss: 24.6546\n",
      "Epoch 176/250\n",
      "700/700 [==============================] - 0s 145us/sample - loss: 25.2988\n",
      "Epoch 177/250\n",
      "700/700 [==============================] - 0s 142us/sample - loss: 24.1330\n",
      "Epoch 178/250\n",
      "700/700 [==============================] - 0s 154us/sample - loss: 24.9616\n",
      "Epoch 179/250\n",
      "700/700 [==============================] - 0s 124us/sample - loss: 24.0804\n",
      "Epoch 180/250\n",
      "700/700 [==============================] - 0s 123us/sample - loss: 24.5758\n",
      "Epoch 181/250\n",
      "700/700 [==============================] - 0s 127us/sample - loss: 24.4315\n",
      "Epoch 182/250\n"
     ]
    },
    {
     "name": "stdout",
     "output_type": "stream",
     "text": [
      "700/700 [==============================] - 0s 144us/sample - loss: 24.4873\n",
      "Epoch 183/250\n",
      "700/700 [==============================] - 0s 136us/sample - loss: 24.3303\n",
      "Epoch 184/250\n",
      "700/700 [==============================] - 0s 133us/sample - loss: 24.5289\n",
      "Epoch 185/250\n",
      "700/700 [==============================] - 0s 102us/sample - loss: 24.3771\n",
      "Epoch 186/250\n",
      "700/700 [==============================] - 0s 134us/sample - loss: 24.2778\n",
      "Epoch 187/250\n",
      "700/700 [==============================] - 0s 129us/sample - loss: 24.3796\n",
      "Epoch 188/250\n",
      "700/700 [==============================] - 0s 145us/sample - loss: 24.9791\n",
      "Epoch 189/250\n",
      "700/700 [==============================] - 0s 152us/sample - loss: 24.1048\n",
      "Epoch 190/250\n",
      "700/700 [==============================] - 0s 107us/sample - loss: 24.8942\n",
      "Epoch 191/250\n",
      "700/700 [==============================] - 0s 94us/sample - loss: 24.3875\n",
      "Epoch 192/250\n",
      "700/700 [==============================] - 0s 128us/sample - loss: 24.2808\n",
      "Epoch 193/250\n",
      "700/700 [==============================] - 0s 137us/sample - loss: 24.5601\n",
      "Epoch 194/250\n",
      "700/700 [==============================] - 0s 130us/sample - loss: 24.3385\n",
      "Epoch 195/250\n",
      "700/700 [==============================] - 0s 132us/sample - loss: 24.3026\n",
      "Epoch 196/250\n",
      "700/700 [==============================] - 0s 132us/sample - loss: 24.2863\n",
      "Epoch 197/250\n",
      "700/700 [==============================] - 0s 135us/sample - loss: 24.1574\n",
      "Epoch 198/250\n",
      "700/700 [==============================] - 0s 135us/sample - loss: 24.7363\n",
      "Epoch 199/250\n",
      "700/700 [==============================] - 0s 135us/sample - loss: 23.8770\n",
      "Epoch 200/250\n",
      "700/700 [==============================] - 0s 139us/sample - loss: 25.0865\n",
      "Epoch 201/250\n",
      "700/700 [==============================] - 0s 151us/sample - loss: 24.8589\n",
      "Epoch 202/250\n",
      "700/700 [==============================] - 0s 182us/sample - loss: 24.7629\n",
      "Epoch 203/250\n",
      "700/700 [==============================] - 0s 173us/sample - loss: 24.3510\n",
      "Epoch 204/250\n",
      "700/700 [==============================] - 0s 137us/sample - loss: 24.5126\n",
      "Epoch 205/250\n",
      "700/700 [==============================] - 0s 133us/sample - loss: 24.5123\n",
      "Epoch 206/250\n",
      "700/700 [==============================] - 0s 147us/sample - loss: 24.4499\n",
      "Epoch 207/250\n",
      "700/700 [==============================] - 0s 137us/sample - loss: 24.7095\n",
      "Epoch 208/250\n",
      "700/700 [==============================] - 0s 134us/sample - loss: 24.0733\n",
      "Epoch 209/250\n",
      "700/700 [==============================] - 0s 140us/sample - loss: 24.4491\n",
      "Epoch 210/250\n",
      "700/700 [==============================] - 0s 134us/sample - loss: 24.7539\n",
      "Epoch 211/250\n",
      "700/700 [==============================] - 0s 133us/sample - loss: 24.6812\n",
      "Epoch 212/250\n",
      "700/700 [==============================] - 0s 140us/sample - loss: 24.0463\n",
      "Epoch 213/250\n",
      "700/700 [==============================] - 0s 141us/sample - loss: 24.3354\n",
      "Epoch 214/250\n",
      "700/700 [==============================] - 0s 134us/sample - loss: 24.3037\n",
      "Epoch 215/250\n",
      "700/700 [==============================] - 0s 135us/sample - loss: 24.4354\n",
      "Epoch 216/250\n",
      "700/700 [==============================] - 0s 124us/sample - loss: 25.0323\n",
      "Epoch 217/250\n",
      "700/700 [==============================] - 0s 138us/sample - loss: 24.6021\n",
      "Epoch 218/250\n",
      "700/700 [==============================] - 0s 98us/sample - loss: 24.3401\n",
      "Epoch 219/250\n",
      "700/700 [==============================] - 0s 67us/sample - loss: 24.4794\n",
      "Epoch 220/250\n",
      "700/700 [==============================] - 0s 87us/sample - loss: 25.0042\n",
      "Epoch 221/250\n",
      "700/700 [==============================] - 0s 95us/sample - loss: 24.3034\n",
      "Epoch 222/250\n",
      "700/700 [==============================] - 0s 130us/sample - loss: 25.0814\n",
      "Epoch 223/250\n",
      "700/700 [==============================] - 0s 126us/sample - loss: 24.6151\n",
      "Epoch 224/250\n",
      "700/700 [==============================] - 0s 128us/sample - loss: 25.4544\n",
      "Epoch 225/250\n",
      "700/700 [==============================] - 0s 148us/sample - loss: 24.3965\n",
      "Epoch 226/250\n",
      "700/700 [==============================] - 0s 135us/sample - loss: 24.1167\n",
      "Epoch 227/250\n",
      "700/700 [==============================] - 0s 154us/sample - loss: 24.3522\n",
      "Epoch 228/250\n",
      "700/700 [==============================] - 0s 177us/sample - loss: 24.3963\n",
      "Epoch 229/250\n",
      "700/700 [==============================] - 0s 172us/sample - loss: 24.8008\n",
      "Epoch 230/250\n",
      "700/700 [==============================] - 0s 155us/sample - loss: 24.5496\n",
      "Epoch 231/250\n",
      "700/700 [==============================] - 0s 171us/sample - loss: 24.9472\n",
      "Epoch 232/250\n",
      "700/700 [==============================] - 0s 157us/sample - loss: 24.5928\n",
      "Epoch 233/250\n",
      "700/700 [==============================] - 0s 169us/sample - loss: 24.9386\n",
      "Epoch 234/250\n",
      "700/700 [==============================] - 0s 154us/sample - loss: 24.7671\n",
      "Epoch 235/250\n",
      "700/700 [==============================] - 0s 146us/sample - loss: 24.9904\n",
      "Epoch 236/250\n",
      "700/700 [==============================] - 0s 146us/sample - loss: 24.4968\n",
      "Epoch 237/250\n",
      "700/700 [==============================] - 0s 168us/sample - loss: 24.7895\n",
      "Epoch 238/250\n",
      "700/700 [==============================] - 0s 151us/sample - loss: 24.7744\n",
      "Epoch 239/250\n",
      "700/700 [==============================] - 0s 147us/sample - loss: 24.7863\n",
      "Epoch 240/250\n",
      "700/700 [==============================] - 0s 153us/sample - loss: 24.5081\n",
      "Epoch 241/250\n",
      "700/700 [==============================] - 0s 130us/sample - loss: 24.7704\n",
      "Epoch 242/250\n",
      "700/700 [==============================] - 0s 99us/sample - loss: 24.2216\n",
      "Epoch 243/250\n",
      "700/700 [==============================] - 0s 136us/sample - loss: 24.1840\n",
      "Epoch 244/250\n",
      "700/700 [==============================] - 0s 148us/sample - loss: 24.2606\n",
      "Epoch 245/250\n",
      "700/700 [==============================] - 0s 143us/sample - loss: 24.8797\n",
      "Epoch 246/250\n",
      "700/700 [==============================] - 0s 142us/sample - loss: 24.7095\n",
      "Epoch 247/250\n",
      "700/700 [==============================] - 0s 109us/sample - loss: 25.2986\n",
      "Epoch 248/250\n",
      "700/700 [==============================] - 0s 100us/sample - loss: 24.2191\n",
      "Epoch 249/250\n",
      "700/700 [==============================] - 0s 155us/sample - loss: 24.5827\n",
      "Epoch 250/250\n",
      "700/700 [==============================] - 0s 139us/sample - loss: 24.3107\n"
     ]
    },
    {
     "data": {
      "text/plain": [
       "<tensorflow.python.keras.callbacks.History at 0x25423252648>"
      ]
     },
     "execution_count": 88,
     "metadata": {},
     "output_type": "execute_result"
    }
   ],
   "source": [
    "model.fit(x = X_train, y = y_train, epochs = 250)"
   ]
  },
  {
   "cell_type": "markdown",
   "metadata": {},
   "source": [
    "## Evaluation\n",
    "\n",
    "**Let's evaluate our performance on our training set and our test set. We can compare these two performances to check for overfitting.**"
   ]
  },
  {
   "cell_type": "code",
   "execution_count": 89,
   "metadata": {},
   "outputs": [
    {
     "data": {
      "text/plain": [
       "{'loss': [256489.57848214285,\n",
       "  256349.9263392857,\n",
       "  256180.60214285715,\n",
       "  255961.39473214286,\n",
       "  255709.79017857142,\n",
       "  255416.3694642857,\n",
       "  255073.69464285715,\n",
       "  254674.3225892857,\n",
       "  254190.24089285714,\n",
       "  253593.2144642857,\n",
       "  252872.43401785713,\n",
       "  252050.97625,\n",
       "  251116.69767857142,\n",
       "  250067.0598214286,\n",
       "  248896.70517857143,\n",
       "  247597.57642857142,\n",
       "  246148.849375,\n",
       "  244551.63776785714,\n",
       "  242770.19035714286,\n",
       "  240787.16794642858,\n",
       "  238608.19589285715,\n",
       "  236216.31857142856,\n",
       "  233600.98044642858,\n",
       "  230769.24919642857,\n",
       "  227671.44044642858,\n",
       "  224354.83026785715,\n",
       "  220778.21910714285,\n",
       "  216936.1136607143,\n",
       "  212849.36285714287,\n",
       "  208454.47044642858,\n",
       "  203780.38116071429,\n",
       "  198823.76125,\n",
       "  193601.7269642857,\n",
       "  188087.80401785715,\n",
       "  182242.04580357144,\n",
       "  176135.90767857144,\n",
       "  169758.11785714285,\n",
       "  163121.35419642858,\n",
       "  156208.74196428573,\n",
       "  149032.64276785715,\n",
       "  141601.19629464287,\n",
       "  133947.62191964284,\n",
       "  126107.66602678571,\n",
       "  118142.32357142857,\n",
       "  109973.08129464286,\n",
       "  101677.01633928572,\n",
       "  93374.67977678572,\n",
       "  85006.1861607143,\n",
       "  76697.91616071429,\n",
       "  68476.81256696429,\n",
       "  60362.80488839286,\n",
       "  52408.27904017857,\n",
       "  44766.32069196428,\n",
       "  37488.04899553571,\n",
       "  30657.649296875,\n",
       "  24331.434497767856,\n",
       "  18628.814972098215,\n",
       "  13640.016958705357,\n",
       "  9445.372204241072,\n",
       "  6207.332264229911,\n",
       "  3921.3964285714287,\n",
       "  2652.45041015625,\n",
       "  2196.5617047991072,\n",
       "  2100.896251395089,\n",
       "  2046.4734828404019,\n",
       "  1994.3482310267857,\n",
       "  1945.0505064174108,\n",
       "  1897.533279157366,\n",
       "  1842.5922684151785,\n",
       "  1806.384425920759,\n",
       "  1758.9646930803572,\n",
       "  1704.4760093470982,\n",
       "  1663.5558963448661,\n",
       "  1609.5155029296875,\n",
       "  1569.4307114955357,\n",
       "  1516.4100718470982,\n",
       "  1469.2509444754464,\n",
       "  1421.811494140625,\n",
       "  1374.2759235491071,\n",
       "  1335.7076820591517,\n",
       "  1288.539766671317,\n",
       "  1255.0611077008928,\n",
       "  1211.8979317801338,\n",
       "  1167.676691545759,\n",
       "  1118.9038218470982,\n",
       "  1092.5008851841517,\n",
       "  1049.5698388671874,\n",
       "  1006.3554035295759,\n",
       "  970.3814543805804,\n",
       "  934.541765485491,\n",
       "  897.864724469866,\n",
       "  864.1310177176339,\n",
       "  828.2646725027902,\n",
       "  793.4818408203125,\n",
       "  757.1547185407366,\n",
       "  722.8761251395089,\n",
       "  686.0786962890625,\n",
       "  658.3717560686384,\n",
       "  629.5483426339285,\n",
       "  600.7099285016741,\n",
       "  572.384207938058,\n",
       "  543.3833827427455,\n",
       "  511.4157533482143,\n",
       "  482.46305995396204,\n",
       "  453.9877223423549,\n",
       "  427.08196533203125,\n",
       "  398.44943568638394,\n",
       "  372.95182913643976,\n",
       "  345.08562517438617,\n",
       "  324.3859824916295,\n",
       "  305.0410236467634,\n",
       "  287.35612234933035,\n",
       "  268.1651900809152,\n",
       "  247.70661586216517,\n",
       "  229.24284563337054,\n",
       "  211.33477957589287,\n",
       "  193.63855224609375,\n",
       "  177.38512547084264,\n",
       "  162.75800319126674,\n",
       "  147.10629311697824,\n",
       "  132.52501351492745,\n",
       "  119.72331063406808,\n",
       "  108.10430908203125,\n",
       "  97.21444418770926,\n",
       "  87.70740308489118,\n",
       "  79.76638379778181,\n",
       "  71.3324327305385,\n",
       "  64.6485116141183,\n",
       "  58.322613830566404,\n",
       "  52.538837890625,\n",
       "  47.53126501900809,\n",
       "  43.28253869192941,\n",
       "  40.604231632777626,\n",
       "  37.64054552350726,\n",
       "  34.944142848423546,\n",
       "  33.045532858712335,\n",
       "  31.374134063720703,\n",
       "  30.01037988935198,\n",
       "  28.789818485804968,\n",
       "  27.926072627476284,\n",
       "  27.14776518685477,\n",
       "  27.26020233154297,\n",
       "  25.84659296308245,\n",
       "  26.743724648611884,\n",
       "  25.427953393118724,\n",
       "  25.479052963256837,\n",
       "  24.95954110281808,\n",
       "  25.829784524100166,\n",
       "  24.99186728341239,\n",
       "  24.815085416521345,\n",
       "  24.849875194004603,\n",
       "  24.950736705235073,\n",
       "  24.565666078839982,\n",
       "  24.59213523864746,\n",
       "  24.881263929094587,\n",
       "  24.12799233027867,\n",
       "  25.33239339556013,\n",
       "  24.532815867832728,\n",
       "  24.275376554216656,\n",
       "  24.580846546718053,\n",
       "  24.553940244402206,\n",
       "  24.549970496041436,\n",
       "  24.617122977120534,\n",
       "  24.128902413504463,\n",
       "  24.939751423427037,\n",
       "  24.683384039742606,\n",
       "  24.53155917576381,\n",
       "  24.32424322945731,\n",
       "  24.395596945626394,\n",
       "  24.231211918422154,\n",
       "  24.37996711730957,\n",
       "  24.41344249180385,\n",
       "  24.32959321158273,\n",
       "  24.67189617701939,\n",
       "  24.65461015973772,\n",
       "  25.298816593715124,\n",
       "  24.132955164228168,\n",
       "  24.96159812927246,\n",
       "  24.080405556815013,\n",
       "  24.57578619820731,\n",
       "  24.431471895490375,\n",
       "  24.48729678562709,\n",
       "  24.33025520324707,\n",
       "  24.52885290963309,\n",
       "  24.377083195277624,\n",
       "  24.27776131766183,\n",
       "  24.379638846261162,\n",
       "  24.979125900268556,\n",
       "  24.10483944484166,\n",
       "  24.894239796229773,\n",
       "  24.38753235953195,\n",
       "  24.280782209123885,\n",
       "  24.56005878993443,\n",
       "  24.33846649169922,\n",
       "  24.302573520115445,\n",
       "  24.286349890572684,\n",
       "  24.157391858782088,\n",
       "  24.736318915230886,\n",
       "  23.87702649797712,\n",
       "  25.086510184151784,\n",
       "  24.85888498578753,\n",
       "  24.762854080200196,\n",
       "  24.35103744506836,\n",
       "  24.51263572692871,\n",
       "  24.512276142665318,\n",
       "  24.44991140093122,\n",
       "  24.70949968610491,\n",
       "  24.073349794660295,\n",
       "  24.449125900268555,\n",
       "  24.753901225498744,\n",
       "  24.681227776663643,\n",
       "  24.04627573285784,\n",
       "  24.335442592075893,\n",
       "  24.30367185320173,\n",
       "  24.435421066284178,\n",
       "  25.032308327811105,\n",
       "  24.60209802900042,\n",
       "  24.340085209437778,\n",
       "  24.47936408996582,\n",
       "  25.004189714704243,\n",
       "  24.303441205705916,\n",
       "  25.081389585222517,\n",
       "  24.61507214137486,\n",
       "  25.454404961722236,\n",
       "  24.396525780814034,\n",
       "  24.11668683733259,\n",
       "  24.352184584481375,\n",
       "  24.396267874581472,\n",
       "  24.80076726640974,\n",
       "  24.54956246512277,\n",
       "  24.9472291128976,\n",
       "  24.592845502580914,\n",
       "  24.93855831691197,\n",
       "  24.76711591448103,\n",
       "  24.990372685023715,\n",
       "  24.496826891217914,\n",
       "  24.78953159877232,\n",
       "  24.774394716535294,\n",
       "  24.78625774383545,\n",
       "  24.508141381399973,\n",
       "  24.770398886544363,\n",
       "  24.221606129237582,\n",
       "  24.184017399379186,\n",
       "  24.26055822099958,\n",
       "  24.87969367980957,\n",
       "  24.709547500610352,\n",
       "  25.298550720214845,\n",
       "  24.219062576293947,\n",
       "  24.582733808244978,\n",
       "  24.310712727137975]}"
      ]
     },
     "execution_count": 89,
     "metadata": {},
     "output_type": "execute_result"
    }
   ],
   "source": [
    "model.history.history"
   ]
  },
  {
   "cell_type": "code",
   "execution_count": 90,
   "metadata": {},
   "outputs": [],
   "source": [
    "loss_df = pd.DataFrame(model.history.history)"
   ]
  },
  {
   "cell_type": "code",
   "execution_count": 91,
   "metadata": {},
   "outputs": [
    {
     "data": {
      "text/plain": [
       "Text(0.5, 1.0, 'Training Loss per Epoch')"
      ]
     },
     "execution_count": 91,
     "metadata": {},
     "output_type": "execute_result"
    },
    {
     "data": {
      "image/png": "[encoded data removed]",
      "text/plain": [
       "<Figure size 432x288 with 1 Axes>"
      ]
     },
     "metadata": {
      "needs_background": "light"
     },
     "output_type": "display_data"
    }
   ],
   "source": [
    "loss_df.plot()\n",
    "plt.title(\"Training Loss per Epoch\")"
   ]
  },
  {
   "cell_type": "markdown",
   "metadata": {},
   "source": [
    "### Compare final evaluation (MSE) on training set and test set.\n",
    "\n",
    "**These should hopefully be fairly close to each other.**"
   ]
  },
  {
   "cell_type": "code",
   "execution_count": 92,
   "metadata": {},
   "outputs": [
    {
     "data": {
      "text/plain": [
       "['loss']"
      ]
     },
     "execution_count": 92,
     "metadata": {},
     "output_type": "execute_result"
    }
   ],
   "source": [
    "model.metrics_names"
   ]
  },
  {
   "cell_type": "code",
   "execution_count": 95,
   "metadata": {},
   "outputs": [
    {
     "data": {
      "text/plain": [
       "25.996099090576173"
      ]
     },
     "execution_count": 95,
     "metadata": {},
     "output_type": "execute_result"
    }
   ],
   "source": [
    "# Test Score\n",
    "model.evaluate(X_test, y_test, verbose = 0)"
   ]
  },
  {
   "cell_type": "code",
   "execution_count": 97,
   "metadata": {},
   "outputs": [
    {
     "data": {
      "text/plain": [
       "24.068577771868025"
      ]
     },
     "execution_count": 97,
     "metadata": {},
     "output_type": "execute_result"
    }
   ],
   "source": [
    "# Training Score\n",
    "model.evaluate(X_train, y_train, verbose = 0)"
   ]
  },
  {
   "cell_type": "markdown",
   "metadata": {},
   "source": [
    "### Further Evaluations"
   ]
  },
  {
   "cell_type": "code",
   "execution_count": 106,
   "metadata": {},
   "outputs": [],
   "source": [
    "predictions = model.predict(X_test)"
   ]
  },
  {
   "cell_type": "code",
   "execution_count": 107,
   "metadata": {},
   "outputs": [
    {
     "data": {
      "text/plain": [
       "array([[405.9999 ],\n",
       "       [624.6787 ],\n",
       "       [593.2173 ],\n",
       "       [573.24615],\n",
       "       [367.2156 ],\n",
       "       [580.2261 ],\n",
       "       [515.94446],\n",
       "       [459.93747],\n",
       "       [550.2206 ],\n",
       "       [448.32968],\n",
       "       [612.9028 ],\n",
       "       [549.97327],\n",
       "       [419.83463],\n",
       "       [409.57886],\n",
       "       [652.47217],\n",
       "       [438.08243],\n",
       "       [509.39444],\n",
       "       [661.1123 ],\n",
       "       [663.7866 ],\n",
       "       [566.5768 ],\n",
       "       [334.78024],\n",
       "       [445.61972],\n",
       "       [383.17868],\n",
       "       [379.41473],\n",
       "       [567.6201 ],\n",
       "       [611.6877 ],\n",
       "       [533.3458 ],\n",
       "       [428.61832],\n",
       "       [656.62555],\n",
       "       [414.82297],\n",
       "       [443.43356],\n",
       "       [485.99545],\n",
       "       [439.1925 ],\n",
       "       [683.0864 ],\n",
       "       [425.52948],\n",
       "       [418.4061 ],\n",
       "       [502.8654 ],\n",
       "       [551.4741 ],\n",
       "       [510.62216],\n",
       "       [396.0147 ],\n",
       "       [619.7287 ],\n",
       "       [417.3714 ],\n",
       "       [605.55786],\n",
       "       [446.77533],\n",
       "       [502.88904],\n",
       "       [582.8115 ],\n",
       "       [670.25824],\n",
       "       [491.2944 ],\n",
       "       [319.135  ],\n",
       "       [486.29196],\n",
       "       [518.2008 ],\n",
       "       [382.47263],\n",
       "       [542.91425],\n",
       "       [409.3132 ],\n",
       "       [642.70435],\n",
       "       [491.95016],\n",
       "       [629.06573],\n",
       "       [628.1771 ],\n",
       "       [447.86636],\n",
       "       [485.55453],\n",
       "       [492.004  ],\n",
       "       [475.397  ],\n",
       "       [684.05164],\n",
       "       [403.98468],\n",
       "       [702.43164],\n",
       "       [587.4576 ],\n",
       "       [584.1867 ],\n",
       "       [538.8423 ],\n",
       "       [485.44193],\n",
       "       [517.4759 ],\n",
       "       [361.85345],\n",
       "       [541.73376],\n",
       "       [571.6581 ],\n",
       "       [529.44476],\n",
       "       [454.5347 ],\n",
       "       [532.1106 ],\n",
       "       [508.14142],\n",
       "       [444.10544],\n",
       "       [544.3455 ],\n",
       "       [641.95135],\n",
       "       [466.8132 ],\n",
       "       [568.2985 ],\n",
       "       [692.06256],\n",
       "       [459.54337],\n",
       "       [710.20374],\n",
       "       [473.5397 ],\n",
       "       [404.01083],\n",
       "       [586.1674 ],\n",
       "       [437.55624],\n",
       "       [489.85278],\n",
       "       [618.1732 ],\n",
       "       [440.27206],\n",
       "       [456.12326],\n",
       "       [436.02582],\n",
       "       [507.80685],\n",
       "       [609.5529 ],\n",
       "       [322.17545],\n",
       "       [437.05304],\n",
       "       [537.3214 ],\n",
       "       [519.5574 ],\n",
       "       [606.13904],\n",
       "       [526.39154],\n",
       "       [334.72546],\n",
       "       [577.2364 ],\n",
       "       [432.51767],\n",
       "       [563.6098 ],\n",
       "       [514.3356 ],\n",
       "       [391.7609 ],\n",
       "       [567.2537 ],\n",
       "       [455.63745],\n",
       "       [449.2753 ],\n",
       "       [642.14136],\n",
       "       [525.341  ],\n",
       "       [551.7026 ],\n",
       "       [418.43076],\n",
       "       [479.59457],\n",
       "       [587.59424],\n",
       "       [668.5925 ],\n",
       "       [701.7445 ],\n",
       "       [660.578  ],\n",
       "       [561.5856 ],\n",
       "       [504.0958 ],\n",
       "       [391.02075],\n",
       "       [281.80276],\n",
       "       [480.48282],\n",
       "       [617.52185],\n",
       "       [373.98596],\n",
       "       [513.18823],\n",
       "       [511.92783],\n",
       "       [494.36325],\n",
       "       [481.324  ],\n",
       "       [424.5212 ],\n",
       "       [494.34027],\n",
       "       [472.31976],\n",
       "       [601.56934],\n",
       "       [574.65784],\n",
       "       [415.67374],\n",
       "       [631.8113 ],\n",
       "       [467.2182 ],\n",
       "       [565.37897],\n",
       "       [406.40082],\n",
       "       [533.1383 ],\n",
       "       [573.6793 ],\n",
       "       [357.6876 ],\n",
       "       [550.82855],\n",
       "       [604.46136],\n",
       "       [384.96982],\n",
       "       [543.36456],\n",
       "       [563.6224 ],\n",
       "       [453.7101 ],\n",
       "       [633.3706 ],\n",
       "       [372.88174],\n",
       "       [475.09128],\n",
       "       [529.8096 ],\n",
       "       [372.9595 ],\n",
       "       [462.04865],\n",
       "       [437.07382],\n",
       "       [499.39243],\n",
       "       [346.73087],\n",
       "       [395.9989 ],\n",
       "       [605.7001 ],\n",
       "       [507.57742],\n",
       "       [469.45135],\n",
       "       [491.26337],\n",
       "       [536.27527],\n",
       "       [345.08865],\n",
       "       [513.28864],\n",
       "       [251.22191],\n",
       "       [504.99994],\n",
       "       [542.06165],\n",
       "       [490.24893],\n",
       "       [471.9646 ],\n",
       "       [393.24216],\n",
       "       [417.01855],\n",
       "       [550.5715 ],\n",
       "       [476.63248],\n",
       "       [580.9944 ],\n",
       "       [490.63568],\n",
       "       [602.06323],\n",
       "       [548.0068 ],\n",
       "       [542.9596 ],\n",
       "       [501.4893 ],\n",
       "       [647.02295],\n",
       "       [561.4356 ],\n",
       "       [579.0254 ],\n",
       "       [444.94754],\n",
       "       [416.27356],\n",
       "       [420.7644 ],\n",
       "       [570.1792 ],\n",
       "       [610.12305],\n",
       "       [438.55176],\n",
       "       [488.85825],\n",
       "       [588.8108 ],\n",
       "       [526.32294],\n",
       "       [357.97964],\n",
       "       [646.59985],\n",
       "       [528.98157],\n",
       "       [337.7945 ],\n",
       "       [493.57925],\n",
       "       [410.89993],\n",
       "       [607.7216 ],\n",
       "       [347.15283],\n",
       "       [523.38416],\n",
       "       [405.41443],\n",
       "       [258.81055],\n",
       "       [520.8512 ],\n",
       "       [341.51514],\n",
       "       [362.65747],\n",
       "       [577.49475],\n",
       "       [417.43314],\n",
       "       [551.9824 ],\n",
       "       [522.0213 ],\n",
       "       [511.64343],\n",
       "       [325.31525],\n",
       "       [404.84155],\n",
       "       [603.49194],\n",
       "       [618.98535],\n",
       "       [604.3468 ],\n",
       "       [567.34845],\n",
       "       [474.26254],\n",
       "       [461.1972 ],\n",
       "       [509.34933],\n",
       "       [446.71384],\n",
       "       [512.2622 ],\n",
       "       [503.26147],\n",
       "       [400.85452],\n",
       "       [606.64056],\n",
       "       [258.55685],\n",
       "       [629.41925],\n",
       "       [590.24963],\n",
       "       [327.7238 ],\n",
       "       [480.39627],\n",
       "       [596.4447 ],\n",
       "       [379.06424],\n",
       "       [460.97705],\n",
       "       [325.5839 ],\n",
       "       [519.65125],\n",
       "       [410.36618],\n",
       "       [557.2733 ],\n",
       "       [643.08435],\n",
       "       [537.79706],\n",
       "       [504.09863],\n",
       "       [636.22675],\n",
       "       [516.1857 ],\n",
       "       [532.6751 ],\n",
       "       [519.7504 ],\n",
       "       [458.26523],\n",
       "       [506.76105],\n",
       "       [461.94025],\n",
       "       [592.8133 ],\n",
       "       [466.74124],\n",
       "       [427.92703],\n",
       "       [542.5621 ],\n",
       "       [494.68884],\n",
       "       [680.88477],\n",
       "       [373.41666],\n",
       "       [552.61865],\n",
       "       [579.0265 ],\n",
       "       [434.7232 ],\n",
       "       [544.0044 ],\n",
       "       [587.0958 ],\n",
       "       [580.3279 ],\n",
       "       [722.2785 ],\n",
       "       [433.48788],\n",
       "       [399.30765],\n",
       "       [314.55338],\n",
       "       [449.07315],\n",
       "       [388.79483],\n",
       "       [544.1812 ],\n",
       "       [523.67914],\n",
       "       [565.54803],\n",
       "       [448.81638],\n",
       "       [535.38916],\n",
       "       [382.46426],\n",
       "       [502.42654],\n",
       "       [638.2672 ],\n",
       "       [497.4714 ],\n",
       "       [569.41876],\n",
       "       [470.9433 ],\n",
       "       [273.79535],\n",
       "       [518.28894],\n",
       "       [622.5389 ],\n",
       "       [351.11914],\n",
       "       [451.2272 ],\n",
       "       [500.17917],\n",
       "       [543.96106],\n",
       "       [612.9642 ],\n",
       "       [388.83255],\n",
       "       [450.17642],\n",
       "       [483.28867],\n",
       "       [599.4054 ],\n",
       "       [500.25974],\n",
       "       [322.00693],\n",
       "       [556.1561 ],\n",
       "       [445.4262 ],\n",
       "       [529.9828 ],\n",
       "       [516.20056],\n",
       "       [610.7675 ],\n",
       "       [417.70468],\n",
       "       [411.58353]], dtype=float32)"
      ]
     },
     "execution_count": 107,
     "metadata": {},
     "output_type": "execute_result"
    }
   ],
   "source": [
    "predictions"
   ]
  },
  {
   "cell_type": "code",
   "execution_count": 108,
   "metadata": {},
   "outputs": [],
   "source": [
    "predictions = pd.Series(predictions.reshape(300,))"
   ]
  },
  {
   "cell_type": "code",
   "execution_count": 109,
   "metadata": {},
   "outputs": [
    {
     "data": {
      "text/plain": [
       "0      405.999908\n",
       "1      624.678711\n",
       "2      593.217285\n",
       "3      573.246155\n",
       "4      367.215607\n",
       "          ...    \n",
       "295    529.982788\n",
       "296    516.200562\n",
       "297    610.767517\n",
       "298    417.704681\n",
       "299    411.583527\n",
       "Length: 300, dtype: float32"
      ]
     },
     "execution_count": 109,
     "metadata": {},
     "output_type": "execute_result"
    }
   ],
   "source": [
    "predictions"
   ]
  },
  {
   "cell_type": "code",
   "execution_count": 121,
   "metadata": {},
   "outputs": [],
   "source": [
    "pred_df = pd.DataFrame(y_test, columns = ['Test True Y'])"
   ]
  },
  {
   "cell_type": "code",
   "execution_count": 122,
   "metadata": {},
   "outputs": [
    {
     "data": {
      "text/html": [
       "<div>\n",
       "<style scoped>\n",
       "    .dataframe tbody tr th:only-of-type {\n",
       "        vertical-align: middle;\n",
       "    }\n",
       "\n",
       "    .dataframe tbody tr th {\n",
       "        vertical-align: top;\n",
       "    }\n",
       "\n",
       "    .dataframe thead th {\n",
       "        text-align: right;\n",
       "    }\n",
       "</style>\n",
       "<table border=\"1\" class=\"dataframe\">\n",
       "  <thead>\n",
       "    <tr style=\"text-align: right;\">\n",
       "      <th></th>\n",
       "      <th>Test True Y</th>\n",
       "    </tr>\n",
       "  </thead>\n",
       "  <tbody>\n",
       "    <tr>\n",
       "      <th>0</th>\n",
       "      <td>402.296319</td>\n",
       "    </tr>\n",
       "    <tr>\n",
       "      <th>1</th>\n",
       "      <td>624.156198</td>\n",
       "    </tr>\n",
       "    <tr>\n",
       "      <th>2</th>\n",
       "      <td>582.455066</td>\n",
       "    </tr>\n",
       "    <tr>\n",
       "      <th>3</th>\n",
       "      <td>578.588606</td>\n",
       "    </tr>\n",
       "    <tr>\n",
       "      <th>4</th>\n",
       "      <td>371.224104</td>\n",
       "    </tr>\n",
       "  </tbody>\n",
       "</table>\n",
       "</div>"
      ],
      "text/plain": [
       "   Test True Y\n",
       "0   402.296319\n",
       "1   624.156198\n",
       "2   582.455066\n",
       "3   578.588606\n",
       "4   371.224104"
      ]
     },
     "execution_count": 122,
     "metadata": {},
     "output_type": "execute_result"
    }
   ],
   "source": [
    "pred_df.head(5)"
   ]
  },
  {
   "cell_type": "code",
   "execution_count": 123,
   "metadata": {},
   "outputs": [],
   "source": [
    "pred_df = pd.concat([pred_df, predictions], axis = 1)"
   ]
  },
  {
   "cell_type": "code",
   "execution_count": 124,
   "metadata": {},
   "outputs": [],
   "source": [
    "pred_df.columns = ['Test True Y', 'Model Predictions']"
   ]
  },
  {
   "cell_type": "code",
   "execution_count": 125,
   "metadata": {},
   "outputs": [
    {
     "data": {
      "text/html": [
       "<div>\n",
       "<style scoped>\n",
       "    .dataframe tbody tr th:only-of-type {\n",
       "        vertical-align: middle;\n",
       "    }\n",
       "\n",
       "    .dataframe tbody tr th {\n",
       "        vertical-align: top;\n",
       "    }\n",
       "\n",
       "    .dataframe thead th {\n",
       "        text-align: right;\n",
       "    }\n",
       "</style>\n",
       "<table border=\"1\" class=\"dataframe\">\n",
       "  <thead>\n",
       "    <tr style=\"text-align: right;\">\n",
       "      <th></th>\n",
       "      <th>Test True Y</th>\n",
       "      <th>Model Predictions</th>\n",
       "    </tr>\n",
       "  </thead>\n",
       "  <tbody>\n",
       "    <tr>\n",
       "      <th>0</th>\n",
       "      <td>402.296319</td>\n",
       "      <td>405.999908</td>\n",
       "    </tr>\n",
       "    <tr>\n",
       "      <th>1</th>\n",
       "      <td>624.156198</td>\n",
       "      <td>624.678711</td>\n",
       "    </tr>\n",
       "    <tr>\n",
       "      <th>2</th>\n",
       "      <td>582.455066</td>\n",
       "      <td>593.217285</td>\n",
       "    </tr>\n",
       "    <tr>\n",
       "      <th>3</th>\n",
       "      <td>578.588606</td>\n",
       "      <td>573.246155</td>\n",
       "    </tr>\n",
       "    <tr>\n",
       "      <th>4</th>\n",
       "      <td>371.224104</td>\n",
       "      <td>367.215607</td>\n",
       "    </tr>\n",
       "  </tbody>\n",
       "</table>\n",
       "</div>"
      ],
      "text/plain": [
       "   Test True Y  Model Predictions\n",
       "0   402.296319         405.999908\n",
       "1   624.156198         624.678711\n",
       "2   582.455066         593.217285\n",
       "3   578.588606         573.246155\n",
       "4   371.224104         367.215607"
      ]
     },
     "execution_count": 125,
     "metadata": {},
     "output_type": "execute_result"
    }
   ],
   "source": [
    "pred_df.head(5)"
   ]
  },
  {
   "cell_type": "markdown",
   "metadata": {},
   "source": [
    "**Let's compare to the real test labels!**"
   ]
  },
  {
   "cell_type": "code",
   "execution_count": 137,
   "metadata": {},
   "outputs": [
    {
     "data": {
      "text/plain": [
       "<matplotlib.axes._subplots.AxesSubplot at 0x25425a42ac8>"
      ]
     },
     "execution_count": 137,
     "metadata": {},
     "output_type": "execute_result"
    },
    {
     "data": {
      "image/png": "[encoded data removed]",
      "text/plain": [
       "<Figure size 648x360 with 1 Axes>"
      ]
     },
     "metadata": {
      "needs_background": "light"
     },
     "output_type": "display_data"
    }
   ],
   "source": [
    "plt.figure(figsize=(9,5))\n",
    "sns.scatterplot(x = 'Test True Y', y = 'Model Predictions', data = pred_df)"
   ]
  },
  {
   "cell_type": "code",
   "execution_count": 139,
   "metadata": {},
   "outputs": [],
   "source": [
    "pred_df['Error'] = pred_df['Test True Y'] - pred_df['Model Predictions']"
   ]
  },
  {
   "cell_type": "code",
   "execution_count": 142,
   "metadata": {},
   "outputs": [
    {
     "data": {
      "text/plain": [
       "<matplotlib.axes._subplots.AxesSubplot at 0x25425320cc8>"
      ]
     },
     "execution_count": 142,
     "metadata": {},
     "output_type": "execute_result"
    },
    {
     "data": {
      "image/png": "[encoded data removed]",
      "text/plain": [
       "<Figure size 648x360 with 1 Axes>"
      ]
     },
     "metadata": {
      "needs_background": "light"
     },
     "output_type": "display_data"
    }
   ],
   "source": [
    "plt.figure(figsize=(9,5))\n",
    "sns.distplot(pred_df['Error'],bins=50)"
   ]
  },
  {
   "cell_type": "code",
   "execution_count": 160,
   "metadata": {},
   "outputs": [],
   "source": [
    "from sklearn.metrics import mean_absolute_error, mean_squared_error, explained_variance_score"
   ]
  },
  {
   "cell_type": "code",
   "execution_count": 144,
   "metadata": {},
   "outputs": [
    {
     "data": {
      "text/plain": [
       "4.122692803864071"
      ]
     },
     "execution_count": 144,
     "metadata": {},
     "output_type": "execute_result"
    }
   ],
   "source": [
    "mean_absolute_error(pred_df['Test True Y'], pred_df['Model Predictions'])"
   ]
  },
  {
   "cell_type": "code",
   "execution_count": 145,
   "metadata": {},
   "outputs": [
    {
     "data": {
      "text/plain": [
       "25.996101476060243"
      ]
     },
     "execution_count": 145,
     "metadata": {},
     "output_type": "execute_result"
    }
   ],
   "source": [
    "mean_squared_error(pred_df['Test True Y'], pred_df['Model Predictions'])"
   ]
  },
  {
   "cell_type": "code",
   "execution_count": 158,
   "metadata": {},
   "outputs": [
    {
     "data": {
      "text/plain": [
       "5.098637217537667"
      ]
     },
     "execution_count": 158,
     "metadata": {},
     "output_type": "execute_result"
    }
   ],
   "source": [
    "#root mean squared error\n",
    "mean_squared_error(pred_df['Test True Y'], pred_df['Model Predictions'])**0.5"
   ]
  },
  {
   "cell_type": "code",
   "execution_count": 161,
   "metadata": {},
   "outputs": [
    {
     "data": {
      "text/plain": [
       "0.9971538084776836"
      ]
     },
     "execution_count": 161,
     "metadata": {},
     "output_type": "execute_result"
    }
   ],
   "source": [
    "explained_variance_score(y_test, predictions)"
   ]
  },
  {
   "cell_type": "markdown",
   "metadata": {},
   "source": [
    "# Predicting on brand new data\n",
    "\n",
    "**What if we just saw a brand new gemstone from the ground? What should we price it at? This is the exact same procedure as predicting on a new test data.**"
   ]
  },
  {
   "cell_type": "code",
   "execution_count": 150,
   "metadata": {},
   "outputs": [],
   "source": [
    "# [[Feature1, Feature2]]\n",
    "new_gem = [[998, 1000]]"
   ]
  },
  {
   "cell_type": "code",
   "execution_count": 151,
   "metadata": {},
   "outputs": [],
   "source": [
    "# Don't forget to scale!\n",
    "new_gem_scaled = scaler.transform(new_gem)"
   ]
  },
  {
   "cell_type": "code",
   "execution_count": 153,
   "metadata": {},
   "outputs": [
    {
     "data": {
      "text/plain": [
       "array([[420.3925]], dtype=float32)"
      ]
     },
     "execution_count": 153,
     "metadata": {},
     "output_type": "execute_result"
    }
   ],
   "source": [
    "model.predict(new_gem_scaled)"
   ]
  },
  {
   "cell_type": "markdown",
   "metadata": {},
   "source": [
    "## Saving and Loading a Model"
   ]
  },
  {
   "cell_type": "code",
   "execution_count": 154,
   "metadata": {},
   "outputs": [],
   "source": [
    "from tensorflow.keras.models import load_model"
   ]
  },
  {
   "cell_type": "code",
   "execution_count": 155,
   "metadata": {},
   "outputs": [],
   "source": [
    "model.save('my_gem_model.h5')"
   ]
  },
  {
   "cell_type": "code",
   "execution_count": 156,
   "metadata": {},
   "outputs": [
    {
     "name": "stdout",
     "output_type": "stream",
     "text": [
      "WARNING:tensorflow:Sequential models without an `input_shape` passed to the first layer cannot reload their optimizer state. As a result, your model isstarting with a freshly initialized optimizer.\n"
     ]
    }
   ],
   "source": [
    "later_model = load_model('my_gem_model.h5')"
   ]
  },
  {
   "cell_type": "code",
   "execution_count": 157,
   "metadata": {},
   "outputs": [
    {
     "data": {
      "text/plain": [
       "array([[420.3925]], dtype=float32)"
      ]
     },
     "execution_count": 157,
     "metadata": {},
     "output_type": "execute_result"
    }
   ],
   "source": [
    "later_model.predict(new_gem_scaled)"
   ]
  }
 ],
 "metadata": {
  "kernelspec": {
   "display_name": "Python 3",
   "language": "python",
   "name": "python3"
  },
  "language_info": {
   "codemirror_mode": {
    "name": "ipython",
    "version": 3
   },
   "file_extension": ".py",
   "mimetype": "text/x-python",
   "name": "python",
   "nbconvert_exporter": "python",
   "pygments_lexer": "ipython3",
   "version": "3.7.4"
  }
 },
 "nbformat": 4,
 "nbformat_minor": 2
}
